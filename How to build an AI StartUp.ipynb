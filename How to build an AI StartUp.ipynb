{
 "cells": [
  {
   "cell_type": "markdown",
   "metadata": {},
   "source": [
    "<img src=\"Assets/Synaptiq_Logo.png\" alt=\"Drawing\" style=\"width: 300px;\"/>\n",
    "\n",
    "# How to build an AI Start Up\n",
    "\n",
    "## Table of Contents:\n",
    "* [0. What is my motivation to build a Start Up?](#0)\n",
    "    * [0.1 Instrinsic Motivation](#0.1)\n",
    "    * [0.2 Extrinsic Motivation](#0.2)\n",
    "    * [0.3 Will power](#0.3)\n",
    "* [1. Choose an Ideea for your Start UP](#1)\n",
    "    * [1.1 Choose a Domain](#1.1)\n",
    "    * [1.2 See if the AI has Capabilities to Improve that Domain](#1.2)\n",
    "    * [1.3 Choose a Method that you want to use to Improve that Domain](#1.3)\n",
    "* [2 See what is the current Progress in that Domain using the Method you want to use](#2)\n",
    "* [3. Evaluate the Need](#3)\n",
    "    * [3.1 Do some Internet Search](#3.1)\n",
    "    * [3.2 Ask some People who are part of this Process](#3.2)\n",
    "    * [3.3 Quantitative Analysis of that Need ](#3.3)\n",
    "* [4. Evaluate the Market](#4)\n",
    "    * [4.1 AI Adoption in that Industry](#4.1)\n",
    "    * [4.2 Market Size](#4.2)\n",
    "    * [4.3 Competition](#4.3)\n",
    "* [5. Ethics](#5)\n",
    "\n"
   ]
  },
  {
   "cell_type": "markdown",
   "metadata": {},
   "source": [
    "## 0. What is my motivation to build a Start Up? <a class=\"anchor\" id=\"0\"></a>\n",
    "\n",
    "![1](Assets/Intrinsic_Extrinsic_Motivation.png)"
   ]
  },
  {
   "cell_type": "markdown",
   "metadata": {},
   "source": [
    "### 0.1 Intrinsic Motivation <a class=\"anchor\" id=\"0.1\"></a>\n",
    "\n",
    "- [ ] Curiosity / Learning\n",
    "- [ ] Better myself / Challenge driven \n",
    "- [ ] Make a change / Help others\n",
    "- [ ] Excitment / Fun"
   ]
  },
  {
   "cell_type": "markdown",
   "metadata": {},
   "source": [
    "### 0.2 Extrinsic Motivation <a class=\"anchor\" id=\"0.2\"></a>\n",
    "\n",
    "- [ ] Money \n",
    "- [ ] Social Recognition/Status\n",
    "- [ ] Prizes\n",
    "- [ ] Authority"
   ]
  },
  {
   "cell_type": "markdown",
   "metadata": {},
   "source": [
    "### 0.3 Will power: The ability to do something even if you have low motivation <a class=\"anchor\" id=\"0.3\"></a>"
   ]
  },
  {
   "cell_type": "code",
   "execution_count": 59,
   "metadata": {},
   "outputs": [
    {
     "name": "stdout",
     "output_type": "stream",
     "text": [
      "a : How often do I end something I started?\n",
      "b : How good am I at keeping deadlines?\n",
      "c : How well organize I am?\n"
     ]
    },
    {
     "data": {
      "application/vnd.jupyter.widget-view+json": {
       "model_id": "2154155540ca472da25fe7eafea3b3db",
       "version_major": 2,
       "version_minor": 0
      },
      "text/plain": [
       "interactive(children=(IntSlider(value=2, description='a', max=5), IntSlider(value=2, description='b', max=5), …"
      ]
     },
     "metadata": {},
     "output_type": "display_data"
    }
   ],
   "source": [
    "from ipywidgets import interact\n",
    "print(\"a : How often do I end something I started?\")\n",
    "print(\"b : How good am I at keeping deadlines?\")\n",
    "print(\"c : How well organize I am?\")\n",
    "@interact(a=(0, 5), b =(0, 5), c=(0, 5))\n",
    "def func1(a, b, c):\n",
    "    print(\"My score is \", a+b+c)\n",
    "\n",
    "    "
   ]
  },
  {
   "cell_type": "markdown",
   "metadata": {},
   "source": [
    "## 1. Choose an Ideea for your Start UP <a class=\"anchor\" id=\"1\"></a>"
   ]
  },
  {
   "cell_type": "markdown",
   "metadata": {},
   "source": [
    "### 1.1 Choose a Domain <a class=\"anchor\" id=\"1.1\"></a>\n",
    "\n",
    "![title](Assets/AI_Domains.jpg)\n",
    "\n",
    "- [ ] I am interested in this domain\n",
    "- [ ] I have enough knowledge in this domain\n",
    "    - [ ] I have a degree in this domain\n",
    "    - [ ] I took some courses on this domain\n",
    "- [ ] I have enough experience in this domain\n",
    "    - [ ] I have successfully completed University projects in this domain\n",
    "    - [ ] I have intern/work experience in this domain\n",
    "- [ ] I know a possible cofounder/advisor that has knowledge & experience in this field\n",
    "\n",
    "### 1.2 See if the AI has Capabilities to Improve that Domain <a class=\"anchor\" id=\"1.2\"></a>\n",
    "\n",
    "![title](Assets/AI_Capabilities.jpg)\n",
    "\n",
    "\n",
    "### 1.3 Choose a Method that you want to use to Improve that Domain <a class=\"anchor\" id=\"1.3\"></a>\n",
    "\n",
    "![title](Assets/ML_Methods.svg)\n",
    "\n",
    "- [ ] I have knowledge & experience with the AI technology that this domain might need\n",
    "    - [ ] I have a degree in this AI field\n",
    "    - [ ] I took some courses on this AI field\n",
    "    - [ ] I have successfully completed University projects in this AI field\n",
    "    - [ ] I have intern/work experience in this AI field\n",
    "    - [ ] I have knowledge/experience in a similar AI field\n",
    "- [ ] I know a possible cofounder that has knowledge & experience in this field"
   ]
  },
  {
   "cell_type": "markdown",
   "metadata": {},
   "source": [
    "## 2 See what is the current Progress in that Domain using the Method you want to use <a class=\"anchor\" id=\"2\"></a>\n",
    "\n",
    "![title](Assets/TRL.jpg)\n",
    "\n",
    "### You can get the information using:\n",
    "    - Research Articles\n",
    "    - Companies\n",
    "    - Products\n",
    "\n"
   ]
  },
  {
   "cell_type": "code",
   "execution_count": 60,
   "metadata": {},
   "outputs": [
    {
     "name": "stdout",
     "output_type": "stream",
     "text": [
      "What TRL is the current solution?\n"
     ]
    },
    {
     "data": {
      "application/vnd.jupyter.widget-view+json": {
       "model_id": "a2885956f06b4b43905fb6361abf3aed",
       "version_major": 2,
       "version_minor": 0
      },
      "text/plain": [
       "interactive(children=(IntSlider(value=4, description='TRL', max=9), Output()), _dom_classes=('widget-interact'…"
      ]
     },
     "metadata": {},
     "output_type": "display_data"
    }
   ],
   "source": [
    "import matplotlib.pyplot as plt\n",
    "print(\"What TRL is the current solution?\")\n",
    "@interact(TRL=(0, 9))\n",
    "def func2(TRL):\n",
    "    risk = (10 - TRL)\n",
    "    plt.plot((TRL+1)**2, risk**2, 'bo')\n",
    "    plt.xlabel(\"Market Saturation\", color=\"red\")\n",
    "    plt.ylabel(\"Risk\", color=\"red\")\n",
    "    plt.xlim([0, 100])\n",
    "    plt.ylim([0, 100])\n",
    "    "
   ]
  },
  {
   "cell_type": "markdown",
   "metadata": {},
   "source": [
    "## 3. Evaluate the Need <a class=\"anchor\" id=\"3\"></a>\n",
    "\n",
    "![title](Assets/Maslows-Hierarchy-of-Needs.jpg)"
   ]
  },
  {
   "cell_type": "markdown",
   "metadata": {},
   "source": [
    "### 3.1 Do some Internet Search <a class=\"anchor\" id=\"3.1\"></a>\n",
    "\n",
    "- [ ] The problem I want to solve is part of a large scale process\n",
    "    - How many people are affected by this process?\n",
    "    - What is the impact the process has on these people?\n",
    "    - What level is this need on Maslows Pyramid?\n",
    "- [ ] The problem I want to solve is the bottleneck of this process\n",
    "    - What is the speedup of the process if the botleneck is no longer there\n",
    "    - What alternative solutions are there?\n",
    "    - If the problem is not the bottleneck is it somehow facilitating the change of the entire process?\n"
   ]
  },
  {
   "cell_type": "markdown",
   "metadata": {},
   "source": [
    "### 3.2 Ask some People who are part of this Process <a class=\"anchor\" id=\"3.2\"></a>\n",
    "- [ ] The problem I want to solve is part of a large scale process\n",
    "    - How many people are affected by this process?\n",
    "    - What is the impact the process has on these people?\n",
    "    - What level is this need on Maslows Pyramid?\n",
    "- [ ] The problem I want to solve is the bottleneck of this process\n",
    "    - What is the speedup of the process if the botleneck is no longer there\n",
    "    - What alternative solutions are there?\n",
    "    - If the problem is not the bottleneck is it somehow facilitating the change of the entire process?\n",
    "- [ ] The problem I want to solve has an emotional dimension\n",
    "    - What is the human involvement?\n",
    "    - What feelings people deal with when they have this problem?\n",
    "- [ ] The problem I want to solve is part of a future need\n",
    "    - What is the perspective of people involved in this process about the future?"
   ]
  },
  {
   "cell_type": "markdown",
   "metadata": {},
   "source": [
    "### 3.3 Quantitative Analysis of that Need <a class=\"anchor\" id=\"3.3\"></a>\n",
    "\n",
    "- How does my solution translates into money savings?\n",
    "     - If translates in time saved, how much is that time translated into money?\n",
    "     - If translates in life quality, how can I evaluate that?\n",
    "     - How scalable my solution is?\n",
    "- How much does the development of the solution costs?\n",
    "- How much the mentenance of the solution costs?\n",
    "- How much does it cost to stay relevant in that field?\n",
    "- What is the ration between the added benefit quantified in money versus the development & mentenance costs?"
   ]
  },
  {
   "cell_type": "markdown",
   "metadata": {},
   "source": [
    "## 4. Evaluate the Market <a class=\"anchor\" id=\"4\"></a>\n",
    "\n",
    "![title](Assets/Market_Analysis.jpg)"
   ]
  },
  {
   "cell_type": "markdown",
   "metadata": {},
   "source": [
    "### 4.1 AI Adoption in that Industry <a class=\"anchor\" id=\"4.1\"></a>\n",
    "\n",
    "![title](Assets/AI_Adoption.png)\n"
   ]
  },
  {
   "cell_type": "code",
   "execution_count": 61,
   "metadata": {},
   "outputs": [
    {
     "name": "stdout",
     "output_type": "stream",
     "text": [
      "How high is the adoption rate?\n"
     ]
    },
    {
     "data": {
      "application/vnd.jupyter.widget-view+json": {
       "model_id": "2ed5a795148f4658a9bc594255517030",
       "version_major": 2,
       "version_minor": 0
      },
      "text/plain": [
       "interactive(children=(IntSlider(value=50, description='percent'), Output()), _dom_classes=('widget-interact',)…"
      ]
     },
     "metadata": {},
     "output_type": "display_data"
    }
   ],
   "source": [
    "print(\"How high is the adoption rate?\")\n",
    "@interact(percent = (0, 100))\n",
    "def func3(percent):\n",
    "    if percent >= 25:\n",
    "        print(\"People are embracing the change, but beware the competition is high\")\n",
    "    elif percent <= 25 and percent >= 15:\n",
    "        print(\"This might be an oportunity\")\n",
    "    elif percent <= 15:\n",
    "        print(r\"Maybe there is a reason (ethics) that people didn't adopt AI in this industry\")\n",
    "    \n",
    "    return\n"
   ]
  },
  {
   "cell_type": "markdown",
   "metadata": {},
   "source": [
    "### 4.2 Market Size <a class=\"anchor\" id=\"4.2\"></a>\n",
    "\n",
    "\n",
    "![title](Assets/Market_Size_AI.png)\n",
    "\n"
   ]
  },
  {
   "cell_type": "markdown",
   "metadata": {},
   "source": [
    "### 4.3 Competition\n",
    "\n",
    "![title](Assets/ML_Landscape.webp)"
   ]
  },
  {
   "cell_type": "markdown",
   "metadata": {},
   "source": [
    "## 5 Ethics <a class=\"anchor\" id=\"5\"></a>\n",
    "\n",
    "![title](Assets/Ethics_AI.jpg)\n",
    "\n",
    "- [ ] There are no ethical problems in the field I want to use AI\n",
    "- [ ] The regulations are clear regarding the usage of AI in that field\n",
    "- [ ] There is a favorable perspective regarding the ethics in that field"
   ]
  }
 ],
 "metadata": {
  "kernelspec": {
   "display_name": "Python 3",
   "language": "python",
   "name": "python3"
  },
  "language_info": {
   "codemirror_mode": {
    "name": "ipython",
    "version": 3
   },
   "file_extension": ".py",
   "mimetype": "text/x-python",
   "name": "python",
   "nbconvert_exporter": "python",
   "pygments_lexer": "ipython3",
   "version": "3.8.3"
  }
 },
 "nbformat": 4,
 "nbformat_minor": 4
}
